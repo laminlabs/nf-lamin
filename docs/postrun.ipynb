{
 "cells": [
  {
   "cell_type": "markdown",
   "id": "0",
   "metadata": {},
   "source": [
    "# Nextflow postrun script"
   ]
  },
  {
   "cell_type": "markdown",
   "id": "1",
   "metadata": {},
   "source": [
    "[Nextflow](https://www.nextflow.io/) is the most widely used workflow manager in bioinformatics.\n",
    "\n",
    "This guide shows how to register a Nextflow run with inputs & outputs for the example of the [nf-core/scrnaseq](https://nf-co.re/scrnaseq/latest) pipeline by running a Python script.\n",
    "\n",
    "The approach could be automated by deploying the script via\n",
    "\n",
    "1. a serverless environment trigger (e.g., AWS Lambda)\n",
    "2. a [post-run script](https://docs.seqera.io/platform/23.4.0/launch/advanced#pre-and-post-run-scripts) on the Seqera Platform"
   ]
  },
  {
   "cell_type": "markdown",
   "id": "2",
   "metadata": {},
   "source": [
    ":::{dropdown} What steps are executed by the nf-core/scrnaseq pipeline?\n",
    "\n",
    "![](https://github.com/nf-core/scrnaseq/blob/master/docs/images/scrnaseq_pipeline_v1.0_metro_clean.png?raw=true)\n",
    "\n",
    ":::"
   ]
  },
  {
   "cell_type": "code",
   "execution_count": null,
   "id": "3",
   "metadata": {
    "tags": [
     "hide-output"
    ]
   },
   "outputs": [],
   "source": [
    "!lamin init --storage ./test-nextflow --name test-nextflow"
   ]
  },
  {
   "cell_type": "markdown",
   "id": "4",
   "metadata": {},
   "source": [
    "## Run the pipeline\n",
    "\n",
    "Let's download the input data from an S3 bucket."
   ]
  },
  {
   "cell_type": "code",
   "execution_count": null,
   "id": "5",
   "metadata": {},
   "outputs": [],
   "source": [
    "import lamindb as ln\n",
    "\n",
    "input_path = ln.UPath(\"s3://lamindb-test/scrnaseq_input\")\n",
    "input_path.download_to(\"scrnaseq_input\")"
   ]
  },
  {
   "cell_type": "markdown",
   "id": "6",
   "metadata": {},
   "source": [
    "And run the `nf-core/scrnaseq` pipeline."
   ]
  },
  {
   "cell_type": "code",
   "execution_count": null,
   "id": "7",
   "metadata": {
    "tags": [
     "hide-output"
    ]
   },
   "outputs": [],
   "source": [
    "# the test profile uses all downloaded input files as an input\n",
    "!nextflow run nf-core/scrnaseq -r 4.0.0 -profile docker,test -resume --outdir scrnaseq_output"
   ]
  },
  {
   "cell_type": "markdown",
   "id": "8",
   "metadata": {},
   "source": [
    ":::{dropdown} What is the full run command for the test profile?\n",
    "\n",
    "```\n",
    "nextflow run nf-core/scrnaseq -r 4.0.0 \\\n",
    "    -profile docker \\\n",
    "    -resume \\\n",
    "    --outdir scrnaseq_output \\\n",
    "    --input 'scrnaseq_input/samplesheet-2-0.csv' \\\n",
    "    --skip_emptydrops \\\n",
    "    --fasta 'https://github.com/nf-core/test-datasets/raw/scrnaseq/reference/GRCm38.p6.genome.chr19.fa' \\\n",
    "    --gtf 'https://github.com/nf-core/test-datasets/raw/scrnaseq/reference/gencode.vM19.annotation.chr19.gtf' \\\n",
    "    --aligner 'star' \\\n",
    "    --protocol '10XV2' \\\n",
    "    --max_cpus 2 \\\n",
    "    --max_memory '6.GB' \\\n",
    "    --max_time '6.h'\n",
    "```\n",
    ":::"
   ]
  },
  {
   "cell_type": "markdown",
   "id": "9",
   "metadata": {},
   "source": [
    "## Run the registration script"
   ]
  },
  {
   "cell_type": "markdown",
   "id": "10",
   "metadata": {},
   "source": [
    "After the pipeline has completed, a Python script registers inputs & outputs in LaminDB."
   ]
  },
  {
   "cell_type": "markdown",
   "id": "11",
   "metadata": {},
   "source": [
    "```{eval-rst}\n",
    ".. literalinclude:: register_scrnaseq_run.py\n",
    "   :language: python\n",
    "   :caption: nf-core/scrnaseq run registration\n",
    "```"
   ]
  },
  {
   "cell_type": "code",
   "execution_count": null,
   "id": "12",
   "metadata": {
    "tags": [
     "hide-output"
    ]
   },
   "outputs": [],
   "source": [
    "!python register_scrnaseq_run.py --input scrnaseq_input --output scrnaseq_output"
   ]
  },
  {
   "cell_type": "markdown",
   "id": "13",
   "metadata": {},
   "source": [
    "## Data lineage"
   ]
  },
  {
   "cell_type": "markdown",
   "id": "14",
   "metadata": {},
   "source": [
    "The output data could now be accessed (in a different notebook/script) for analysis with full lineage."
   ]
  },
  {
   "cell_type": "code",
   "execution_count": null,
   "id": "15",
   "metadata": {
    "tags": [
     "hide-output"
    ]
   },
   "outputs": [],
   "source": [
    "matrix_af = ln.Artifact.get(key__icontains=\"filtered_count_matrix.h5ad\")"
   ]
  },
  {
   "cell_type": "code",
   "execution_count": null,
   "id": "16",
   "metadata": {},
   "outputs": [],
   "source": [
    "matrix_af.view_lineage()"
   ]
  },
  {
   "cell_type": "markdown",
   "id": "17",
   "metadata": {},
   "source": [
    "## View transforms & runs on the hub\n",
    "\n",
    "[![hub](https://img.shields.io/badge/View%20on%20LaminHub-mediumseagreen)](https://lamin.ai/laminlabs/lamindata/transform/cpMwOcY2YJ5G0000/214dWyrIPWHX7pg24EDR)\n",
    "\n",
    "<img src=\"https://github.com/user-attachments/assets/fb7a9dfd-b15c-4660-8b02-6da7de879f36\" width=\"900px\">"
   ]
  },
  {
   "cell_type": "markdown",
   "id": "18",
   "metadata": {},
   "source": [
    "## View the database content"
   ]
  },
  {
   "cell_type": "code",
   "execution_count": null,
   "id": "19",
   "metadata": {
    "tags": [
     "hide-output"
    ]
   },
   "outputs": [],
   "source": [
    "ln.view()"
   ]
  },
  {
   "cell_type": "code",
   "execution_count": null,
   "id": "20",
   "metadata": {
    "tags": [
     "hide-cell"
    ]
   },
   "outputs": [],
   "source": [
    "# clean up the test instance:\n",
    "!rm -rf test-nextflow\n",
    "!lamin delete --force test-nextflow"
   ]
  }
 ],
 "metadata": {
  "kernelspec": {
   "display_name": "lamindb",
   "language": "python",
   "name": "python3"
  },
  "language_info": {
   "codemirror_mode": {
    "name": "ipython",
    "version": 3
   },
   "file_extension": ".py",
   "mimetype": "text/x-python",
   "name": "python",
   "nbconvert_exporter": "python",
   "pygments_lexer": "ipython3",
   "version": "3.12.8"
  },
  "nbproject": {
   "id": "8124Vtle6ZrO",
   "parent": null,
   "pypackage": null,
   "time_init": "2023-07-24T13:06:04.795992+00:00",
   "user_handle": null,
   "user_id": null,
   "user_name": null,
   "version": "0"
  }
 },
 "nbformat": 4,
 "nbformat_minor": 5
}
