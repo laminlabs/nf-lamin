{
 "cells": [
  {
   "cell_type": "markdown",
   "id": "0",
   "metadata": {},
   "source": [
    "# `nf-lamin` plugin"
   ]
  },
  {
   "cell_type": "markdown",
   "id": "1",
   "metadata": {},
   "source": [
    "[Nextflow](https://www.nextflow.io/) is the most widely used workflow manager in bioinformatics.\n",
    "\n",
    "This guide shows how to register a [nf-core/scrnaseq](https://nf-co.re/scrnaseq/latest) Nextflow run using the `nf-lamin` plugin.\n",
    "\n",
    "To use the `nf-lamin` plugin, you need to configure it with your LaminDB instance and API key.\n",
    "This setup allows the plugin to authenticate and interact with your LaminDB instance, enabling it to record workflow runs and associated metadata."
   ]
  },
  {
   "cell_type": "markdown",
   "id": "2",
   "metadata": {},
   "source": [
    "## Set API Key"
   ]
  },
  {
   "cell_type": "markdown",
   "id": "3",
   "metadata": {},
   "source": [
    "Retrieve your Lamin API key from your [Lamin Hub account settings](https://lamin.ai/settings) and set it as a Nextflow secret:"
   ]
  },
  {
   "cell_type": "markdown",
   "id": "4",
   "metadata": {},
   "source": [
    "```bash\n",
    "nextflow secrets set LAMIN_API_KEY <your-lamin-api-key>\n",
    "```"
   ]
  },
  {
   "cell_type": "markdown",
   "id": "5",
   "metadata": {},
   "source": [
    "## Configure the plugin"
   ]
  },
  {
   "cell_type": "markdown",
   "id": "6",
   "metadata": {},
   "source": [
    "Add the following block to your `nextflow.config`:"
   ]
  },
  {
   "cell_type": "markdown",
   "id": "7",
   "metadata": {},
   "source": [
    "```groovy\n",
    "plugins {\n",
    "  id 'nf-lamin'\n",
    "}\n",
    "\n",
    "lamin {\n",
    "  instance = \"<your-lamin-org>/<your-lamin-instance>\"\n",
    "  api_key = secrets.LAMIN_API_KEY\n",
    "}\n",
    "```"
   ]
  },
  {
   "cell_type": "markdown",
   "id": "8",
   "metadata": {},
   "source": [
    "See [nf-lamin plugin reference](plugin_reference.md) for more configuration options."
   ]
  },
  {
   "cell_type": "markdown",
   "id": "9",
   "metadata": {},
   "source": [
    "## Example Run with nf-core/scrnaseq\n",
    "\n",
    "This guide shows how to register a Nextflow run with inputs & outputs for the [nf-core/scrnaseq](https://nf-co.re/scrnaseq/latest) pipeline."
   ]
  },
  {
   "cell_type": "markdown",
   "id": "10",
   "metadata": {},
   "source": [
    "### Run the pipeline\n",
    "\n",
    "With the `nf-lamin` plugin configured, let’s run the `nf-core/scrnaseq` pipeline on remote input data."
   ]
  },
  {
   "cell_type": "code",
   "execution_count": null,
   "id": "11",
   "metadata": {
    "tags": [
     "hide-output"
    ]
   },
   "outputs": [],
   "source": [
    "# The test profile uses publicly available test data\n",
    "!nextflow run nf-core/scrnaseq \\\n",
    "  -r \"4.0.0\" \\\n",
    "  -profile docker,test \\\n",
    "  -plugins nf-lamin \\\n",
    "  --outdir gs://di-temporary-public/scratch/temp-scrnaseq/run_$(date +%Y%m%d_%H%M%S)"
   ]
  },
  {
   "cell_type": "markdown",
   "id": "12",
   "metadata": {},
   "source": [
    ":::{dropdown} What is the full command and output when running this command?\n",
    "```bash\n",
    "nextflow run nf-core/scrnaseq \\\n",
    "  -latest \\\n",
    "  -r \"4.0.0\" \\\n",
    "  -profile docker \\\n",
    "  -plugins nf-lamin@0.1.0 \\\n",
    "  --input https://github.com/nf-core/test-datasets/raw/scrnaseq/samplesheet-2-0.csv \\\n",
    "  --fasta https://github.com/nf-core/test-datasets/raw/scrnaseq/reference/GRCm38.p6.genome.chr19.fa \\\n",
    "  --gtf https://github.com/nf-core/test-datasets/raw/scrnaseq/reference/gencode.vM19.annotation.chr19.gtf \\\n",
    "  --protocol 10XV2 \\\n",
    "  --skip_emptydrops \\\n",
    "  --outdir gs://di-temporary-public/scratch/temp-scrnaseq/run_$(date +%Y%m%d_%H%M%S)\n",
    "```\n",
    "\n",
    ":::"
   ]
  },
  {
   "cell_type": "markdown",
   "id": "13",
   "metadata": {},
   "source": [
    ":::{dropdown} What steps are executed by the nf-core/scrnaseq pipeline?\n",
    "\n",
    "<!-- The diagram is from the nf-core/scrnaseq GitHub repository. -->\n",
    "\n",
    "![](nf_core_scrnaseq_diagram.png)\n",
    "\n",
    ":::"
   ]
  },
  {
   "cell_type": "markdown",
   "id": "14",
   "metadata": {},
   "source": [
    "When you run this command, `nf-lamin` will print links to the `Transform` and `Run` records it creates in Lamin Hub:"
   ]
  },
  {
   "cell_type": "markdown",
   "id": "15",
   "metadata": {},
   "source": [
    "```\n",
    "✅ Connected to LaminDB instance 'laminlabs/lamindata' as 'user_name'\n",
    "Transform J49HdErpEFrs0000 (https://staging.laminhub.com/laminlabs/lamindata/transform/J49HdErpEFrs0000)\n",
    "Run p8npJ8JxIYazW4EkIl8d (https://staging.laminhub.com/laminlabs/lamindata/transform/J49HdErpEFrs0000/p8npJ8JxIYazW4EkIl8d)\n",
    "```"
   ]
  },
  {
   "cell_type": "markdown",
   "id": "16",
   "metadata": {},
   "source": [
    "### View transforms & runs on Lamin Hub\n",
    "\n",
    "You can explore the run and its associated artifacts through Lamin Hub or the Python package."
   ]
  },
  {
   "cell_type": "markdown",
   "id": "17",
   "metadata": {},
   "source": [
    "#### Via Lamin Hub\n",
    "\n",
    "- Transform:\n",
    "  [J49HdErpEFrs0000](https://staging.laminhub.com/laminlabs/lamindata/transform/J49HdErpEFrs0000)\n",
    "- Run:\n",
    "  [p8npJ8JxIYazW4EkIl8d](https://staging.laminhub.com/laminlabs/lamindata/transform/J49HdErpEFrs0000/p8npJ8JxIYazW4EkIl8d)\n",
    "\n",
    "![](nf_core_scrnaseq_run.png)"
   ]
  },
  {
   "cell_type": "markdown",
   "id": "18",
   "metadata": {},
   "source": [
    "![](https://github.com/laminlabs/lamin-docs/blob/main/docs/guide/run-lineage.png?raw=true)"
   ]
  },
  {
   "cell_type": "markdown",
   "id": "19",
   "metadata": {},
   "source": [
    "#### Using LaminDB"
   ]
  },
  {
   "cell_type": "markdown",
   "id": "20",
   "metadata": {},
   "source": [
    "```python\n",
    "import lamindb as ln\n",
    "\n",
    "# Make sure you are connected to the same instance \n",
    "# you configured in nextflow.config\n",
    "\n",
    "ln.Run.get(\"p8npJ8JxIYazW4EkIl8d\")\n",
    "```\n",
    "\n",
    "This will display the details of the run record in your notebook:\n",
    "```\n",
    "Run(uid='p8npJ8JxIYazW4EkIl8d', name='trusting_brazil', started_at=2025-06-18 12:35:30 UTC, finished_at=2025-06-18 12:37:19 UTC, transform_id='aBcDeFg', created_by_id=..., created_at=...)\n",
    "```"
   ]
  }
 ],
 "metadata": {
  "kernelspec": {
   "display_name": "Python 3 (ipykernel)",
   "language": "python",
   "name": "python3"
  },
  "language_info": {
   "codemirror_mode": {
    "name": "ipython",
    "version": 3
   },
   "file_extension": ".py",
   "mimetype": "text/x-python",
   "name": "python",
   "nbconvert_exporter": "python",
   "pygments_lexer": "ipython3",
   "version": "3.11.7"
  }
 },
 "nbformat": 4,
 "nbformat_minor": 5
}
